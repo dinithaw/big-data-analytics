{
 "cells": [
  {
   "cell_type": "markdown",
   "metadata": {},
   "source": [
    "### Connect to Snowflake"
   ]
  },
  {
   "cell_type": "code",
   "execution_count": 7,
   "metadata": {},
   "outputs": [
    {
     "name": "stdout",
     "output_type": "stream",
     "text": [
      "Connected to Snowflake successfully!\n"
     ]
    }
   ],
   "source": [
    "import snowflake.connector\n",
    "\n",
    "# Establish a connection\n",
    "conn = snowflake.connector.connect(\n",
    "    user=\"DINITHAW\",\n",
    "    password=\"Mahanama098765\",\n",
    "    account=\"GQREZBO-CF24521\",\n",
    ")\n",
    "\n",
    "print(\"Connected to Snowflake successfully!\")\n"
   ]
  },
  {
   "cell_type": "markdown",
   "metadata": {},
   "source": [
    "### Create a Database and Table in Snowflake"
   ]
  },
  {
   "cell_type": "code",
   "execution_count": 8,
   "metadata": {},
   "outputs": [
    {
     "name": "stdout",
     "output_type": "stream",
     "text": [
      "Database and Table created successfully!\n"
     ]
    }
   ],
   "source": [
    "cur = conn.cursor()\n",
    "\n",
    "# Create Database\n",
    "cur.execute(\"CREATE DATABASE IF NOT EXISTS SeasonDataDB;\")\n",
    "\n",
    "# Switch to the new database\n",
    "cur.execute(\"USE DATABASE SeasonDataDB;\")\n",
    "\n",
    "# Create a Table (Modify Columns as per data_season.csv)\n",
    "cur.execute(\"\"\"\n",
    "    CREATE TABLE IF NOT EXISTS SeasonData (\n",
    "        Season STRING,\n",
    "        Temperature FLOAT,\n",
    "        Humidity FLOAT,\n",
    "        WindSpeed FLOAT\n",
    "    );\n",
    "\"\"\")\n",
    "\n",
    "print(\"Database and Table created successfully!\")\n"
   ]
  },
  {
   "cell_type": "markdown",
   "metadata": {},
   "source": [
    "Load Data from cleaned_data.csv into pandas dataframe"
   ]
  },
  {
   "cell_type": "code",
   "execution_count": 9,
   "metadata": {},
   "outputs": [
    {
     "data": {
      "application/vnd.microsoft.datawrangler.viewer.v0+json": {
       "columns": [
        {
         "name": "index",
         "rawType": "int64",
         "type": "integer"
        },
        {
         "name": "Year",
         "rawType": "int64",
         "type": "integer"
        },
        {
         "name": "Location",
         "rawType": "object",
         "type": "string"
        },
        {
         "name": "Area",
         "rawType": "int64",
         "type": "integer"
        },
        {
         "name": "Rainfall",
         "rawType": "float64",
         "type": "float"
        },
        {
         "name": "Temperature",
         "rawType": "float64",
         "type": "float"
        },
        {
         "name": "Soil type",
         "rawType": "object",
         "type": "string"
        },
        {
         "name": "Irrigation",
         "rawType": "object",
         "type": "string"
        },
        {
         "name": "Yeilds",
         "rawType": "float64",
         "type": "float"
        },
        {
         "name": "Humidity",
         "rawType": "float64",
         "type": "float"
        },
        {
         "name": "Crops",
         "rawType": "object",
         "type": "string"
        },
        {
         "name": "Price",
         "rawType": "int64",
         "type": "integer"
        },
        {
         "name": "Season",
         "rawType": "object",
         "type": "string"
        }
       ],
       "conversionMethod": "pd.DataFrame",
       "ref": "05c4f298-2412-4e72-a6c6-ca48089225a7",
       "rows": [
        [
         "0",
         "2004",
         "Mangalore",
         "1279",
         "2903.1",
         "27.0",
         "Alluvial",
         "Drip",
         "2570.0",
         "57.0",
         "Coconut",
         "200000",
         "Kharif"
        ],
        [
         "1",
         "2004",
         "Mangalore",
         "13283",
         "2903.1",
         "27.0",
         "Alluvial",
         "Drip",
         "27170.0",
         "57.5",
         "Coconut",
         "4847",
         "Kharif"
        ],
        [
         "2",
         "2004",
         "Mangalore",
         "52119",
         "2903.1",
         "27.0",
         "Alluvial",
         "Drip",
         "114744.0",
         "57.0",
         "Coconut",
         "51239",
         "Kharif"
        ],
        [
         "3",
         "2004",
         "Mangalore",
         "725",
         "2996.6",
         "27.0",
         "Alluvial",
         "Drip",
         "1402.0",
         "55.0",
         "Coconut",
         "216396",
         "Kharif"
        ],
        [
         "4",
         "2004",
         "Mangalore",
         "12885",
         "2996.6",
         "27.0",
         "Alluvial",
         "Drip",
         "23456.0",
         "56.0",
         "Coconut",
         "2644",
         "Kharif"
        ]
       ],
       "shape": {
        "columns": 12,
        "rows": 5
       }
      },
      "text/html": [
       "<div>\n",
       "<style scoped>\n",
       "    .dataframe tbody tr th:only-of-type {\n",
       "        vertical-align: middle;\n",
       "    }\n",
       "\n",
       "    .dataframe tbody tr th {\n",
       "        vertical-align: top;\n",
       "    }\n",
       "\n",
       "    .dataframe thead th {\n",
       "        text-align: right;\n",
       "    }\n",
       "</style>\n",
       "<table border=\"1\" class=\"dataframe\">\n",
       "  <thead>\n",
       "    <tr style=\"text-align: right;\">\n",
       "      <th></th>\n",
       "      <th>Year</th>\n",
       "      <th>Location</th>\n",
       "      <th>Area</th>\n",
       "      <th>Rainfall</th>\n",
       "      <th>Temperature</th>\n",
       "      <th>Soil type</th>\n",
       "      <th>Irrigation</th>\n",
       "      <th>Yeilds</th>\n",
       "      <th>Humidity</th>\n",
       "      <th>Crops</th>\n",
       "      <th>Price</th>\n",
       "      <th>Season</th>\n",
       "    </tr>\n",
       "  </thead>\n",
       "  <tbody>\n",
       "    <tr>\n",
       "      <th>0</th>\n",
       "      <td>2004</td>\n",
       "      <td>Mangalore</td>\n",
       "      <td>1279</td>\n",
       "      <td>2903.1</td>\n",
       "      <td>27.0</td>\n",
       "      <td>Alluvial</td>\n",
       "      <td>Drip</td>\n",
       "      <td>2570.0</td>\n",
       "      <td>57.0</td>\n",
       "      <td>Coconut</td>\n",
       "      <td>200000</td>\n",
       "      <td>Kharif</td>\n",
       "    </tr>\n",
       "    <tr>\n",
       "      <th>1</th>\n",
       "      <td>2004</td>\n",
       "      <td>Mangalore</td>\n",
       "      <td>13283</td>\n",
       "      <td>2903.1</td>\n",
       "      <td>27.0</td>\n",
       "      <td>Alluvial</td>\n",
       "      <td>Drip</td>\n",
       "      <td>27170.0</td>\n",
       "      <td>57.5</td>\n",
       "      <td>Coconut</td>\n",
       "      <td>4847</td>\n",
       "      <td>Kharif</td>\n",
       "    </tr>\n",
       "    <tr>\n",
       "      <th>2</th>\n",
       "      <td>2004</td>\n",
       "      <td>Mangalore</td>\n",
       "      <td>52119</td>\n",
       "      <td>2903.1</td>\n",
       "      <td>27.0</td>\n",
       "      <td>Alluvial</td>\n",
       "      <td>Drip</td>\n",
       "      <td>114744.0</td>\n",
       "      <td>57.0</td>\n",
       "      <td>Coconut</td>\n",
       "      <td>51239</td>\n",
       "      <td>Kharif</td>\n",
       "    </tr>\n",
       "    <tr>\n",
       "      <th>3</th>\n",
       "      <td>2004</td>\n",
       "      <td>Mangalore</td>\n",
       "      <td>725</td>\n",
       "      <td>2996.6</td>\n",
       "      <td>27.0</td>\n",
       "      <td>Alluvial</td>\n",
       "      <td>Drip</td>\n",
       "      <td>1402.0</td>\n",
       "      <td>55.0</td>\n",
       "      <td>Coconut</td>\n",
       "      <td>216396</td>\n",
       "      <td>Kharif</td>\n",
       "    </tr>\n",
       "    <tr>\n",
       "      <th>4</th>\n",
       "      <td>2004</td>\n",
       "      <td>Mangalore</td>\n",
       "      <td>12885</td>\n",
       "      <td>2996.6</td>\n",
       "      <td>27.0</td>\n",
       "      <td>Alluvial</td>\n",
       "      <td>Drip</td>\n",
       "      <td>23456.0</td>\n",
       "      <td>56.0</td>\n",
       "      <td>Coconut</td>\n",
       "      <td>2644</td>\n",
       "      <td>Kharif</td>\n",
       "    </tr>\n",
       "  </tbody>\n",
       "</table>\n",
       "</div>"
      ],
      "text/plain": [
       "   Year   Location   Area  Rainfall  Temperature Soil type Irrigation  \\\n",
       "0  2004  Mangalore   1279    2903.1         27.0  Alluvial       Drip   \n",
       "1  2004  Mangalore  13283    2903.1         27.0  Alluvial       Drip   \n",
       "2  2004  Mangalore  52119    2903.1         27.0  Alluvial       Drip   \n",
       "3  2004  Mangalore    725    2996.6         27.0  Alluvial       Drip   \n",
       "4  2004  Mangalore  12885    2996.6         27.0  Alluvial       Drip   \n",
       "\n",
       "     Yeilds  Humidity    Crops   Price  Season  \n",
       "0    2570.0      57.0  Coconut  200000  Kharif  \n",
       "1   27170.0      57.5  Coconut    4847  Kharif  \n",
       "2  114744.0      57.0  Coconut   51239  Kharif  \n",
       "3    1402.0      55.0  Coconut  216396  Kharif  \n",
       "4   23456.0      56.0  Coconut    2644  Kharif  "
      ]
     },
     "execution_count": 9,
     "metadata": {},
     "output_type": "execute_result"
    }
   ],
   "source": [
    "import pandas as pd\n",
    "\n",
    "# Load dataset into a Pandas DataFrame\n",
    "df = pd.read_csv(\"cleaned_data.csv\")\n",
    "\n",
    "# Display the first few rows\n",
    "df.head()\n"
   ]
  },
  {
   "cell_type": "markdown",
   "metadata": {},
   "source": [
    "insert the data into Snowflake:"
   ]
  },
  {
   "cell_type": "code",
   "execution_count": 14,
   "metadata": {},
   "outputs": [
    {
     "name": "stdout",
     "output_type": "stream",
     "text": [
      "Data successfully inserted into Snowflake!\n"
     ]
    }
   ],
   "source": [
    "# Insert data row by row (for small datasets)\n",
    "for index, row in df.iterrows():\n",
    "    cur.execute(f\"\"\"\n",
    "        INSERT INTO SeasonData (Season, Temperature, Humidity, WindSpeed)\n",
    "        VALUES ('{row['Season']}', {row['Temperature']}, {row['Humidity']}, {row['Yeilds']});\n",
    "    \"\"\")\n",
    "\n",
    "print(\"Data successfully inserted into Snowflake!\")\n"
   ]
  },
  {
   "cell_type": "markdown",
   "metadata": {},
   "source": [
    "## Snowflake Dashboard"
   ]
  },
  {
   "cell_type": "code",
   "execution_count": 20,
   "metadata": {},
   "outputs": [
    {
     "name": "stderr",
     "output_type": "stream",
     "text": [
      "2025-03-23 15:01:06.165 \n",
      "  \u001b[33m\u001b[1mWarning:\u001b[0m to view this Streamlit app on a browser, run it with the following\n",
      "  command:\n",
      "\n",
      "    streamlit run /home/dinitha-wickramasinghe/.local/lib/python3.12/site-packages/ipykernel_launcher.py [ARGUMENTS]\n"
     ]
    },
    {
     "data": {
      "text/plain": [
       "DeltaGenerator()"
      ]
     },
     "execution_count": 20,
     "metadata": {},
     "output_type": "execute_result"
    }
   ],
   "source": [
    "import streamlit as st\n",
    "\n",
    "# Ensure the correct database is being used\n",
    "cur.execute(\"USE DATABASE SeasonDataDB;\")\n",
    "\n",
    "# Fetch data from the table\n",
    "cur.execute(\"SELECT * FROM SeasonData;\")\n",
    "rows = cur.fetchall()\n",
    "\n",
    "# Create a DataFrame from the fetched data\n",
    "df_season = pd.DataFrame(rows, columns=[\"Season\", \"Temperature\", \"Humidity\", \"WindSpeed\"])\n",
    "\n",
    "# Streamlit Dashboard\n",
    "st.title(\"Seasonal Data Dashboard (Snowflake)\")\n",
    "st.line_chart(df_season.set_index(\"Season\")[\"Temperature\"])\n",
    "st.bar_chart(df_season.set_index(\"Season\")[\"Humidity\"])\n",
    "\n",
    "st.write(\"Latest Data:\")\n",
    "st.dataframe(df_season.tail(10))\n"
   ]
  }
 ],
 "metadata": {
  "kernelspec": {
   "display_name": "base",
   "language": "python",
   "name": "python3"
  },
  "language_info": {
   "codemirror_mode": {
    "name": "ipython",
    "version": 3
   },
   "file_extension": ".py",
   "mimetype": "text/x-python",
   "name": "python",
   "nbconvert_exporter": "python",
   "pygments_lexer": "ipython3",
   "version": "3.12.7"
  }
 },
 "nbformat": 4,
 "nbformat_minor": 2
}
