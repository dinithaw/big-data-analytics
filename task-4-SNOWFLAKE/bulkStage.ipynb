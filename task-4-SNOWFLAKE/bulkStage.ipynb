{
 "cells": [
  {
   "cell_type": "code",
   "execution_count": null,
   "metadata": {},
   "outputs": [
    {
     "name": "stderr",
     "output_type": "stream",
     "text": [
      "C:\\Users\\moham\\AppData\\Roaming\\Python\\Python312\\site-packages\\snowflake\\connector\\options.py:108: UserWarning: You have an incompatible version of 'pyarrow' installed (19.0.1), please install a version that adheres to: 'pyarrow<19.0.0; extra == \"pandas\"'\n",
      "  warn_incompatible_dep(\n"
     ]
    }
   ],
   "source": [
    "import pandas as pd\n",
    "from snowflake.snowpark import Session\n",
    "from snowflake.connector import connect"
   ]
  },
  {
   "cell_type": "code",
   "execution_count": null,
   "metadata": {},
   "outputs": [],
   "source": [
    "# Snowflake connection parameters\n",
    "snowflake_config = {\n",
    "    \"account\": \"YMBZKCC-NT32058\",\n",
    "    \"user\": \"###\",\n",
    "    \"password\": \"####\",\n",
    "    \"warehouse\": \"COMPUTE_WH\",\n",
    "    \"database\": \"AGRICULTURE_DB\",\n",
    "    \"schema\": \"DATA_ANALYSIS\",\n",
    "    \"role\": \"ACCOUNTADMIN\"\n",
    "}\n"
   ]
  },
  {
   "cell_type": "code",
   "execution_count": null,
   "metadata": {},
   "outputs": [],
   "source": [
    "# Initialize session\n",
    "session = Session.builder.configs(snowflake_config).create()\n",
    "print(\"Snowflake connection established!\")\n",
    "\n",
    "# Create a stage (internal storage area in Snowflake)\n",
    "session.sql(\"CREATE OR REPLACE STAGE agriculture_stage\").collect()\n",
    "\n",
    "\n"
   ]
  },
  {
   "cell_type": "code",
   "execution_count": null,
   "metadata": {},
   "outputs": [],
   "source": [
    "# Load the cleaned dataset\n",
    "csv_file_path = \"C:/Users/dinitha/Downloads/cleaned_data_season.csv\"\n",
    "df = pd.read_csv(csv_file_path)\n",
    "\n",
    "# Write to a local CSV (optional step if format needs adjustment)\n",
    "df.to_csv(\"cleaned_data_season_staged.csv\", index=False)\n",
    "\n",
    "# Upload file to Snowflake stage\n",
    "session.file.put(\"cleaned_data_season_staged.csv\", \"@agriculture_stage\", auto_compress=True)\n",
    "print(\"Dataset staged successfully!\")"
   ]
  }
 ],
 "metadata": {
  "kernelspec": {
   "display_name": "Python 3",
   "language": "python",
   "name": "python3"
  },
  "language_info": {
   "codemirror_mode": {
    "name": "ipython",
    "version": 3
   },
   "file_extension": ".py",
   "mimetype": "text/x-python",
   "name": "python",
   "nbconvert_exporter": "python",
   "pygments_lexer": "ipython3",
   "version": "3.12.2"
  }
 },
 "nbformat": 4,
 "nbformat_minor": 2
}
